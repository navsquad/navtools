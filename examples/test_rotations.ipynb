{
 "cells": [
  {
   "cell_type": "code",
   "execution_count": 1,
   "metadata": {},
   "outputs": [],
   "source": [
    "import numpy as np\n",
    "from navtools.conversions.coordinates import *\n",
    "\n",
    "D2R = np.pi / 180\n",
    "lla_deg2rad = np.array([D2R, D2R, 1.0])\n",
    "lla_rad2deg = 1.0 / lla_deg2rad"
   ]
  },
  {
   "cell_type": "code",
   "execution_count": 2,
   "metadata": {},
   "outputs": [],
   "source": [
    "# global lla reference position\n",
    "lla0 = np.array([32.1, -85.4, 250.0], dtype=np.double)\n",
    "\n",
    "# set up initial conditions for running in a circle of position coordinate frames\n",
    "lla = np.array([32.2, -85.5, 250.0], dtype=np.double)\n",
    "dt = 1.0\n",
    "\n",
    "# set up initial conditions for running in a circle of position coordinate frames\n",
    "ned_p = np.array([100.0, 25.0, -10.0], dtype=np.double)\n",
    "ned_v = np.array([1.0, 0.5, 0.0], dtype=np.double)"
   ]
  },
  {
   "cell_type": "code",
   "execution_count": 3,
   "metadata": {},
   "outputs": [
    {
     "name": "stdout",
     "output_type": "stream",
     "text": [
      "Position Tests:\n",
      "Initial LLA: [32.200000, -85.500000, 250.0]\n",
      "Middle LLA: [32.200000, -85.500000, 250.0]\n",
      "Final LLA: [32.200000, -85.500000, 250.0]\n",
      "\n"
     ]
    }
   ],
   "source": [
    "# test position\n",
    "init_lla_rad = lla * lla_deg2rad          #! convert lla to radians\n",
    "lla0_rad = lla0 * lla_deg2rad\n",
    "ecef1 = lla2ecef(init_lla_rad)            #!convert to ecef\n",
    "eci1 = ecef2eci(ecef1, dt)                #! convert to eci\n",
    "ned1 = eci2ned(eci1, lla0_rad, dt)        #! convert to ned\n",
    "temp_lla_rad = ned2lla(ned1, lla0_rad)    #! convert to lla\n",
    "temp_lla_deg = temp_lla_rad * lla_rad2deg\n",
    "enu2 = lla2enu(temp_lla_rad, lla0_rad)    #! convert to enu\n",
    "eci2 = enu2eci(enu2, lla0_rad, dt)        #! convert to eci\n",
    "ecef2 = eci2ecef(eci2, dt)                #! convert to ecef\n",
    "last_lla_rad = ecef2lla(ecef2)            #! convert to lla\n",
    "last_lla_deg = last_lla_rad * lla_rad2deg\n",
    "\n",
    "# print results\n",
    "print(\"Position Tests:\")\n",
    "print(f\"Initial LLA: [{lla[0]:.6f}, {lla[1]:.6f}, {lla[2]:.1f}]\")\n",
    "print(f\"Middle LLA: [{temp_lla_deg[0]:.6f}, {temp_lla_deg[1]:.6f}, {temp_lla_deg[2]:.1f}]\")\n",
    "print(f\"Final LLA: [{last_lla_deg[0]:.6f}, {last_lla_deg[1]:.6f}, {last_lla_deg[2]:.1f}]\\n\")"
   ]
  },
  {
   "cell_type": "code",
   "execution_count": 4,
   "metadata": {},
   "outputs": [
    {
     "name": "stdout",
     "output_type": "stream",
     "text": [
      "Velocity Tests:\n",
      "Initial NED Velocity: [1.000000, 0.500000, 0.0]\n",
      "Final NED Velocity: [1.000000, 0.500000, 0.0]\n",
      "\n"
     ]
    }
   ],
   "source": [
    "lla0_rad = lla0 * lla_deg2rad                         #! convert lla to radians\n",
    "ecef1 = ned2ecefv(ned_v, lla0_rad)                    #! convert to ecef\n",
    "enu_p1 = np.array([ned_p[1], ned_p[0], -ned_p[2]],    #! convert to enu\n",
    "                  dtype=np.double)\n",
    "enu_v1 = ecef2enuv(ecef1, lla0_rad)\n",
    "eci_p1 = enu2eci(enu_p1, lla0_rad, dt)                #! convert to eci\n",
    "eci_v1 = enu2eciv(enu_p1, enu_v1, lla0_rad, dt)\n",
    "temp_ned_vel = eci2nedv(eci_p1, eci_v1, lla0_rad, dt) #! convert to ned\n",
    "\n",
    "# print results\n",
    "print(\"Velocity Tests:\")\n",
    "print(f\"Initial NED Velocity: [{ned_v[0]:.6f}, {ned_v[1]:.6f}, {ned_v[2]:.1f}]\")\n",
    "print(f\"Final NED Velocity: [{temp_ned_vel[0]:.6f}, {temp_ned_vel[1]:.6f}, {temp_ned_vel[2]:.1f}]\\n\")"
   ]
  }
 ],
 "metadata": {
  "kernelspec": {
   "display_name": "Python 3",
   "language": "python",
   "name": "python3"
  },
  "language_info": {
   "codemirror_mode": {
    "name": "ipython",
    "version": 3
   },
   "file_extension": ".py",
   "mimetype": "text/x-python",
   "name": "python",
   "nbconvert_exporter": "python",
   "pygments_lexer": "ipython3",
   "version": "3.10.12"
  }
 },
 "nbformat": 4,
 "nbformat_minor": 2
}
